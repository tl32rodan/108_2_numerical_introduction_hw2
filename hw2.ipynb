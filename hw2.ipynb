{
 "cells": [
  {
   "cell_type": "markdown",
   "metadata": {},
   "source": [
    "# Homework 2\n",
    "## B053040014 陳鵬宇\n",
    "---\n",
    "### Question 1"
   ]
  },
  {
   "cell_type": "markdown",
   "metadata": {},
   "source": [
    "### Proof:\n",
    "Forward:$f(x_{i+1}) = f(x_i+h) =  f(x_i) + f'(x_i)h + \\dfrac{f''(x_i)}{2!}h^2 + R_2(h)\\tag{1}$\n",
    "Backward: $\\begin{align*}\n",
    "            f(x_{i-1}) &= f(x_i-h) =  f(x_i) + f'(x_i)(-h) + \\dfrac{f''(x_i)}{2!}(-h)^2 + R_2(-h) \\\\\n",
    "                       &= f(x_i) - f'(x_i)h + \\dfrac{f''(x_i)}{2!}h^2 + R_2(-h) \\tag{2}\\\\\n",
    "           \\end{align*}$\n",
    "\n",
    "where $R_2(\\alpha) = \\dfrac{f^{(3)}(x_i)}{3!}\\alpha^3 + \\dots$\n",
    "\n",
    "From $(1)$ and $(2)$: \n",
    "\n",
    "$\\begin{align*}\n",
    "        f(x_i) &= f(x_{i+1}) - f'(x_i)h - \\dfrac{f''(x_i)}{2!}h^2 - R_2(h)\\\\\n",
    "               &= f(x_{i-1}) + f'(x_i)h - \\dfrac{f''(x_i)}{2!}h^2 - R_2(-h)\n",
    "\\end{align*}$\n",
    "\n",
    "$\\begin{align*}\n",
    "        2f'(x_i)h &= f(x_{i+1}) - \\dfrac{f''(x_i)}{2!}h^2 - R_2(h) \n",
    "                   - \\bigl(f(x_{i-1}) - \\dfrac{f''(x_i)}{2!}h^2 - R_2(-h)\\bigr)\\\\\n",
    "                  &= f(x_{i+1}) - f(x_{i-1}) - R_2(h) + R_2(-h)\\\\\n",
    "                  &= f(x_{i+1}) - f(x_{i-1}) - 2\\dfrac{f^{(3)}(x_i)}{3!}h^3 + \\dots \\\\\n",
    "                  &= f(x_{i+1}) - f(x_{i-1}) + O(h^3)\n",
    "\\end{align*}$\n",
    "\n",
    "$\\begin{align*}\n",
    "        f'(x_i) &= \\dfrac{f(x_{i+1}) - f(x_{i-1}) + O(h^3)}{2h}\\\\\n",
    "                &= \\dfrac{f(x_{i+1}) - f(x_{i-1})}{2h} + O(h^2), Q.E.D.\n",
    "\\end{align*}$"
   ]
  },
  {
   "cell_type": "markdown",
   "metadata": {},
   "source": [
    "### Question 2\n",
    "#### a."
   ]
  },
  {
   "cell_type": "code",
   "execution_count": 2,
   "metadata": {},
   "outputs": [],
   "source": [
    "import matplotlib.pyplot as plt\n",
    "import numpy as np\n"
   ]
  },
  {
   "cell_type": "code",
   "execution_count": 44,
   "metadata": {},
   "outputs": [],
   "source": [
    "def function_q2(x):\n",
    "    y = 10*np.cos(x*3*np.pi/2)*np.exp(-1*x) + x**6 - 1\n",
    "    return y\n",
    "def question_2a(l,r,N):\n",
    "    x = np.linspace(l,r, num=N)\n",
    "    y = function_q2(x)\n",
    "    plt.plot(x,y,label='function')\n",
    "    plt.plot(x,np.zeros(N),label='x-axis')\n",
    "    plt.xlabel('x')\n",
    "    plt.ylabel('f(x)')\n",
    "    plt.title('$f(x) = 10\\ cos(\\dfrac{3\\pi}{2}x)\\ e^{-x} + x^6 -1$')\n",
    "    plt.legend()\n",
    "    plt.show()"
   ]
  },
  {
   "cell_type": "code",
   "execution_count": 61,
   "metadata": {},
   "outputs": [
    {
     "data": {
      "image/png": "[encoded data removed]",
      "text/plain": [
       "<Figure size 432x288 with 1 Axes>"
      ]
     },
     "metadata": {
      "needs_background": "light"
     },
     "output_type": "display_data"
    },
    {
     "name": "stdout",
     "output_type": "stream",
     "text": [
      "    Based on the curve, we can see that there are 6 points that the function intersects with x-axis, so\n",
      "there should be 6 roots in the interval. There should be other roots because there is a cosine function\n",
      "in f(x) which makes it periodically ,and there are no other funcitons in f(x) will elimate the periodicity.\n"
     ]
    }
   ],
   "source": [
    "N = 100\n",
    "question_2a(-2.5,2.5,N)\n",
    "print('    Based on the curve, we can see that there are 6 points that the function intersects with x-axis, so')\n",
    "print('there should be 6 roots in the interval. There should be other roots because there is a cosine function')\n",
    "print('in f(x) which makes it periodically ,and there are no other funcitons in f(x) will elimate the periodicity.')"
   ]
  },
  {
   "cell_type": "code",
   "execution_count": null,
   "metadata": {},
   "outputs": [],
   "source": []
  },
  {
   "cell_type": "code",
   "execution_count": null,
   "metadata": {},
   "outputs": [],
   "source": []
  }
 ],
 "metadata": {
  "kernelspec": {
   "display_name": "Python 3",
   "language": "python",
   "name": "python3"
  },
  "language_info": {
   "codemirror_mode": {
    "name": "ipython",
    "version": 3
   },
   "file_extension": ".py",
   "mimetype": "text/x-python",
   "name": "python",
   "nbconvert_exporter": "python",
   "pygments_lexer": "ipython3",
   "version": "3.6.10"
  }
 },
 "nbformat": 4,
 "nbformat_minor": 4
}
