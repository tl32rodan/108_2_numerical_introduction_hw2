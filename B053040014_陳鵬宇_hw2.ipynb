{
 "cells": [
  {
   "cell_type": "markdown",
   "metadata": {},
   "source": [
    "# Homework 2\n",
    "## B053040014 陳鵬宇\n",
    "---\n",
    "### Question 1"
   ]
  },
  {
   "cell_type": "markdown",
   "metadata": {},
   "source": [
    "### Proof:\n",
    "Forward:$f(x_{i+1}) = f(x_i+h) =  f(x_i) + f'(x_i)h + \\dfrac{f''(x_i)}{2!}h^2 + R_2(h)\\tag{1}$\n",
    "Backward: $\\begin{align*}\n",
    "            f(x_{i-1}) &= f(x_i-h) =  f(x_i) + f'(x_i)(-h) + \\dfrac{f''(x_i)}{2!}(-h)^2 + R_2(-h) \\\\\n",
    "                       &= f(x_i) - f'(x_i)h + \\dfrac{f''(x_i)}{2!}h^2 + R_2(-h) \\tag{2}\\\\\n",
    "           \\end{align*}$\n",
    "\n",
    "where $R_2(\\alpha) = \\dfrac{f^{(3)}(x_i)}{3!}\\alpha^3 + \\dots$\n",
    "\n",
    "From $(1)$ and $(2)$: \n",
    "\n",
    "$\\begin{align*}\n",
    "        f(x_i) &= f(x_{i+1}) - f'(x_i)h - \\dfrac{f''(x_i)}{2!}h^2 - R_2(h)\\\\\n",
    "               &= f(x_{i-1}) + f'(x_i)h - \\dfrac{f''(x_i)}{2!}h^2 - R_2(-h)\n",
    "\\end{align*}$\n",
    "\n",
    "$\\begin{align*}\n",
    "        2f'(x_i)h &= f(x_{i+1}) - \\dfrac{f''(x_i)}{2!}h^2 - R_2(h) \n",
    "                   - \\bigl(f(x_{i-1}) - \\dfrac{f''(x_i)}{2!}h^2 - R_2(-h)\\bigr)\\\\\n",
    "                  &= f(x_{i+1}) - f(x_{i-1}) - R_2(h) + R_2(-h)\\\\\n",
    "                  &= f(x_{i+1}) - f(x_{i-1}) - 2\\dfrac{f^{(3)}(x_i)}{3!}h^3 + \\dots \\\\\n",
    "                  &= f(x_{i+1}) - f(x_{i-1}) + O(h^3)\n",
    "\\end{align*}$\n",
    "\n",
    "$\\begin{align*}\n",
    "        f'(x_i) &= \\dfrac{f(x_{i+1}) - f(x_{i-1}) + O(h^3)}{2h}\\\\\n",
    "                &= \\dfrac{f(x_{i+1}) - f(x_{i-1})}{2h} + O(h^2), Q.E.D.\n",
    "\\end{align*}$"
   ]
  },
  {
   "cell_type": "markdown",
   "metadata": {},
   "source": [
    "### Question 2\n",
    "#### a."
   ]
  },
  {
   "cell_type": "code",
   "execution_count": 31,
   "metadata": {},
   "outputs": [],
   "source": [
    "import matplotlib.pyplot as plt\n",
    "import numpy as np\n",
    "import pandas as pd\n",
    "import math"
   ]
  },
  {
   "cell_type": "code",
   "execution_count": 2,
   "metadata": {},
   "outputs": [],
   "source": [
    "def function_q2(x):\n",
    "    y = 10*np.cos(x*3*np.pi/2)*np.exp(-1*x) + x**6 - 1\n",
    "    return y\n",
    "\n",
    "def question_2a(l,r,N):\n",
    "    x = np.linspace(l,r, num=N)\n",
    "    y = function_q2(x)\n",
    "    plt.plot(x,y,label='function')\n",
    "    plt.plot(x,np.zeros(N),label='x-axis')\n",
    "    plt.xlabel('x')\n",
    "    plt.ylabel('f(x)')\n",
    "    plt.title('$f(x) = 10\\ cos(\\dfrac{3\\pi}{2}x)\\ e^{-x} + x^6 -1$')\n",
    "    plt.legend()\n",
    "    plt.show()"
   ]
  },
  {
   "cell_type": "code",
   "execution_count": 3,
   "metadata": {},
   "outputs": [
    {
     "name": "stdout",
     "output_type": "stream",
     "text": [
      "2(a):\n"
     ]
    },
    {
     "data": {
      "image/png": "[encoded data removed]",
      "text/plain": [
       "<Figure size 432x288 with 1 Axes>"
      ]
     },
     "metadata": {
      "needs_background": "light"
     },
     "output_type": "display_data"
    },
    {
     "name": "stdout",
     "output_type": "stream",
     "text": [
      "    Based on the curve, we can see that there are 6 points that the function intersects with x-axis, so\n",
      "there should be 6 roots in the interval. There should be other roots because there is a cosine function\n",
      "in f(x) which makes it periodically ,and there are no other funcitons in f(x) will elimate the periodicity.\n"
     ]
    }
   ],
   "source": [
    "print(\"2(a):\")\n",
    "N = 100\n",
    "question_2a(-2.5,2.5,N)\n",
    "print('    Based on the curve, we can see that there are 6 points that the function intersects with x-axis, so')\n",
    "print('there should be 6 roots in the interval. There should be other roots because there is a cosine function')\n",
    "print('in f(x) which makes it periodically ,and there are no other funcitons in f(x) will elimate the periodicity.')"
   ]
  },
  {
   "cell_type": "markdown",
   "metadata": {},
   "source": [
    "b."
   ]
  },
  {
   "cell_type": "code",
   "execution_count": 11,
   "metadata": {},
   "outputs": [],
   "source": [
    "def bisection(func,l=0,r=1, criteria=1e-4):\n",
    "    assert func(l)*func(r) < 0 and r >= l, 'Illegal interval'\n",
    "    \n",
    "    relative_errors=[]\n",
    "    # Add initial error=100%\n",
    "    relative_errors.append(1.00)\n",
    "    origin_error = abs(r-l)\n",
    "    \n",
    "    i=0\n",
    "    \n",
    "    while(abs(relative_errors[-1]) > criteria):\n",
    "        #print(relative_errors[-1],' ')\n",
    "        mid = (l+r)/2\n",
    "        \n",
    "        if(func(mid)*func(l) < 0):\n",
    "            r = mid\n",
    "        elif(func(mid)*func(r) < 0):\n",
    "            l = mid\n",
    "        else:\n",
    "            raise PrecisionError('Underflow when finding mid point')\n",
    "        \n",
    "        # Relative error in this iteration\n",
    "        relative_errors.append( abs(l-r)/origin_error )\n",
    "        i+=1\n",
    "        if(i>200):\n",
    "            print('Exceed 200 iteration. Exiting..')\n",
    "            break\n",
    "    return relative_errors\n",
    "\n",
    "def false_position(func,l=0,r=1, criteria=1e-4):\n",
    "    assert func(l)*func(r) < 0 and r >= l, 'Illegal interval'\n",
    "    \n",
    "    relative_errors=[]\n",
    "    # Add initial error=100%\n",
    "    relative_errors.append(1.00)    \n",
    "    origin_error = abs(r-l)\n",
    "    i=0\n",
    "    \n",
    "    while(abs(relative_errors[-1]) > criteria):\n",
    "        # print('l=',l,' ,r=',r,' ,prev_relative_errors = ',relative_errors[-1],' ')\n",
    "        # p is the point that determined by false position method\n",
    "        p = r - (func(r)*(r-l))/(func(r) - func(l))\n",
    "        \n",
    "        if(func(p)*func(r) > 0):\n",
    "            r = p\n",
    "        elif(func(p)*func(l) > 0):\n",
    "            l = p\n",
    "        else:\n",
    "            raise PrecisionError('Underflow when finding p')\n",
    "        \n",
    "        # Relative error in this iteration\n",
    "        relative_errors.append( abs(l-r)/origin_error )\n",
    "        i+=1\n",
    "        if(i>200):\n",
    "            print('Exceed 200 iteration. Exiting..')\n",
    "            break\n",
    "        \n",
    "    return relative_errors"
   ]
  },
  {
   "cell_type": "code",
   "execution_count": 12,
   "metadata": {},
   "outputs": [],
   "source": [
    "def question_2b(func,l=0,r=0.5,criteria=1e-4):\n",
    "    #print('bisection:')\n",
    "    \n",
    "    bisection_E_a = bisection(func,l,r,criteria)\n",
    "    bisection_E_a = [i*100  for i in bisection_E_a]\n",
    "    bisection_x = [i for i in range(len(bisection_E_a))]\n",
    "\n",
    "    #print('false_position:')\n",
    "    false_position_E_a = false_position(func,l,r,criteria)\n",
    "    false_position_E_a = [i*100  for i in false_position_E_a]\n",
    "    false_position_x = [i for i in range(len(false_position_E_a))]\n",
    "\n",
    "    plt.plot(bisection_x,bisection_E_a,label='bisection')\n",
    "    plt.plot(false_position_x,false_position_E_a,label='false_position')\n",
    "\n",
    "    plt.xlabel('iteration')\n",
    "    plt.ylabel('$E_a(\\%)$')\n",
    "    plt.title('Bracketing Method Experiment')\n",
    "    plt.legend()\n",
    "    plt.show()"
   ]
  },
  {
   "cell_type": "code",
   "execution_count": 13,
   "metadata": {
    "scrolled": false
   },
   "outputs": [
    {
     "name": "stdout",
     "output_type": "stream",
     "text": [
      "2(b):\n"
     ]
    },
    {
     "data": {
      "image/png": "[encoded data removed]",
      "text/plain": [
       "<Figure size 432x288 with 1 Axes>"
      ]
     },
     "metadata": {
      "needs_background": "light"
     },
     "output_type": "display_data"
    },
    {
     "name": "stdout",
     "output_type": "stream",
     "text": [
      "Apprently, false position method converges faster than bisection method in this case\n"
     ]
    }
   ],
   "source": [
    "print('2(b):')\n",
    "\n",
    "question_2b(func=function_q2, l=0, r=0.5, criteria=1E-4)\n",
    "\n",
    "print('Apprently, false position method converges faster than bisection method in this case')"
   ]
  },
  {
   "cell_type": "code",
   "execution_count": 28,
   "metadata": {
    "scrolled": true
   },
   "outputs": [
    {
     "name": "stdout",
     "output_type": "stream",
     "text": [
      "2(c):\n",
      "Exceed 200 iteration. Exiting..\n"
     ]
    },
    {
     "data": {
      "image/png": "[encoded data removed]",
      "text/plain": [
       "<Figure size 432x288 with 1 Axes>"
      ]
     },
     "metadata": {
      "needs_background": "light"
     },
     "output_type": "display_data"
    },
    {
     "name": "stdout",
     "output_type": "stream",
     "text": [
      "Bracketing [0.5,2] can't converge more. As my experiment, if right interval exceeds 1.4746989, it will not converges;\n",
      "but if within, it will still converges below stopping criteria!\n"
     ]
    }
   ],
   "source": [
    "print('2(c):')\n",
    "question_2b(func=function_q2, l=0.5, r=2, criteria=1e-4)\n",
    "\n",
    "\n",
    "print('Bracketing [0.5,2] can\\'t converge more. As my experiment, if right interval exceeds 1.4746989, it will not converges;')\n",
    "print('but if within, it will still converges below stopping criteria!')"
   ]
  },
  {
   "cell_type": "code",
   "execution_count": 15,
   "metadata": {},
   "outputs": [
    {
     "name": "stdout",
     "output_type": "stream",
     "text": [
      "2(c) extra:\n"
     ]
    },
    {
     "data": {
      "image/png": "[encoded data removed]",
      "text/plain": [
       "<Figure size 432x288 with 1 Axes>"
      ]
     },
     "metadata": {
      "needs_background": "light"
     },
     "output_type": "display_data"
    },
    {
     "name": "stdout",
     "output_type": "stream",
     "text": [
      "Exceed 200 iteration. Exiting..\n"
     ]
    },
    {
     "data": {
      "image/png": "[encoded data removed]",
      "text/plain": [
       "<Figure size 432x288 with 1 Axes>"
      ]
     },
     "metadata": {
      "needs_background": "light"
     },
     "output_type": "display_data"
    }
   ],
   "source": [
    "print('2(c) extra:')\n",
    "question_2b(func=function_q2, l=0.5, r=1.4746989, criteria=1e-4)\n",
    "question_2b(func=function_q2, l=0.5, r=1.474699, criteria=1e-4)"
   ]
  },
  {
   "cell_type": "markdown",
   "metadata": {},
   "source": [
    "### Question 3\n",
    "#### a."
   ]
  },
  {
   "cell_type": "code",
   "execution_count": 16,
   "metadata": {},
   "outputs": [],
   "source": [
    "# this mysterious modulation only applies to x- and y-component with an exponential modulation\n",
    "def D_modulation(v,t,T2,T1):\n",
    "    '''  Parameters:\n",
    "            v :np.array \n",
    "                Input vector of dimension 3.\n",
    "                \n",
    "            t, T2 ,T1: integer or floating point\n",
    "                Parameters of D_modulation.\n",
    "    ''' \n",
    "    exp_mod = np.array([ \n",
    "        [np.exp(-t/T2),            0, 0],\n",
    "        [            0,np.exp(-t/T2), 0],\n",
    "        [            0,            0, 1]   \n",
    "    ])\n",
    "    \n",
    "    scalar = np.array([0, 0, 1-np.exp(-t/T1)])\n",
    "    \n",
    "    result = np.add(np.dot(exp_mod,v),scalar)\n",
    "    \n",
    "    return result"
   ]
  },
  {
   "cell_type": "markdown",
   "metadata": {},
   "source": [
    "#### b."
   ]
  },
  {
   "cell_type": "code",
   "execution_count": 17,
   "metadata": {},
   "outputs": [],
   "source": [
    "def crusher(v):\n",
    "    '''  Parameters:\n",
    "            v :np.array \n",
    "                Input vector of dimension 3.\n",
    "    ''' \n",
    "    c = np.array([ \n",
    "        [ 0, 0, 0],\n",
    "        [ 0, 0, 0],\n",
    "        [ 0, 0, 1]   \n",
    "    ])\n",
    "    return np.dot(c,v)"
   ]
  },
  {
   "cell_type": "markdown",
   "metadata": {},
   "source": [
    "#### c."
   ]
  },
  {
   "cell_type": "code",
   "execution_count": 18,
   "metadata": {},
   "outputs": [],
   "source": [
    "# Rotation v with angle relatively to x-axis\n",
    "def Rx(v,angle):\n",
    "    # v should be a np.array of dimension 3\n",
    "    # angle should be degree\n",
    "    assert v.ndim!=3 ,\"Input vector of function \\\"Rx\\\" should have dimension of 3\"\n",
    "    \n",
    "    # Convert angle to radian\n",
    "    a_to_r = math.radians(angle)\n",
    "    rx_matrix = np.array([\n",
    "        [ 1,             0,                0 ],\n",
    "        [ 0,np.cos(a_to_r),-1*np.sin(a_to_r) ],\n",
    "        [ 0,np.sin(a_to_r),   np.cos(a_to_r) ]\n",
    "    ])\n",
    "    \n",
    "    result = np.matmul(rx_matrix,v)\n",
    "    return result\n",
    "\n",
    "# Rotation v with angle relatively to y-axis\n",
    "def Ry(v,angle):\n",
    "    # v should be a np.array of dimension 3\n",
    "    # angle should be degree\n",
    "    assert v.ndim!=3 ,\"Input vector of function \\\"Ry\\\" should have dimension of 3\"\n",
    "    \n",
    "    # Convert angle to radian\n",
    "    a_to_r = math.radians(angle)\n",
    "    rx_matrix = np.array([\n",
    "        [   np.cos(a_to_r),             0,np.sin(a_to_r) ],\n",
    "        [                0,             1,             0 ],\n",
    "        [-1*np.sin(a_to_r),             0,np.cos(a_to_r) ]\n",
    "    ])\n",
    "    \n",
    "    result = np.matmul(rx_matrix,v)\n",
    "    return result\n",
    "\n",
    "# Rotation v with angle relatively to z-axis\n",
    "def Rz(v,angle):\n",
    "    # v should be a np.array of dimension 3\n",
    "    # angle should be degree\n",
    "    assert v.ndim!=3 ,\"Input vector of function \\\"Rz\\\" should have dimension of 3\"\n",
    "    \n",
    "    # Convert angle to radian\n",
    "    a_to_r = math.radians(angle)\n",
    "    rx_matrix = np.array([\n",
    "        [np.cos(a_to_r),-1*np.sin(a_to_r), 0 ],\n",
    "        [np.sin(a_to_r),   np.cos(a_to_r), 0 ],\n",
    "        [             0,                0, 1 ]\n",
    "    ])\n",
    "    \n",
    "    result = np.matmul(rx_matrix,v)\n",
    "    return result\n",
    "\n",
    "\n",
    "def S_xy(v):\n",
    "    assert v.size >=2\n",
    "    return math.sqrt(v[0]**2 + v[1]**2)"
   ]
  },
  {
   "cell_type": "code",
   "execution_count": 19,
   "metadata": {},
   "outputs": [],
   "source": [
    "    def procedure_3c(v, angle_x=0, angle_y=0, angle_z=0, t=250, T2=200, T1=900, N=500):\n",
    "    '''  Parameters:\n",
    "            v :np.array \n",
    "                Input vector of dimension 3.\n",
    "                \n",
    "            angle_x,angle_y,angle_z: integer or floating point\n",
    "                Angles of rotation.\n",
    "                \n",
    "            t, T2 ,T1: integer or floating point\n",
    "                Parameters of D_modulation.\n",
    "                \n",
    "            N: integer\n",
    "                Number of iteration that applying of D modulation \n",
    "    ''' \n",
    "    assert v.ndim!=3 ,\"Input vector should have dimension of 3\"\n",
    "    result = 0\n",
    "    for i in range(1,501):\n",
    "        v = Rz(Ry(Rx(v,angle_x),angle_y),angle_z)\n",
    "        v = D_modulation(v,t,T2,T1)\n",
    "        \n",
    "        if(i==500):\n",
    "            result = S_xy(v)\n",
    "        else:\n",
    "            v = crusher(v)\n",
    "\n",
    "    return result"
   ]
  },
  {
   "cell_type": "code",
   "execution_count": 20,
   "metadata": {},
   "outputs": [],
   "source": [
    "def question_3c(theta=30):\n",
    "    v = np.array([0,0,1])\n",
    "    r = procedure_3c(v, t=250, T2=200, T1=900, angle_x=theta, angle_y=0, angle_z=0, N=500)\n",
    "    return r"
   ]
  },
  {
   "cell_type": "code",
   "execution_count": 21,
   "metadata": {},
   "outputs": [
    {
     "name": "stdout",
     "output_type": "stream",
     "text": [
      "3(c):\n",
      "0.25933052266243123\n"
     ]
    }
   ],
   "source": [
    "print('3(c):')\n",
    "print(question_3c(theta=30))"
   ]
  },
  {
   "cell_type": "markdown",
   "metadata": {},
   "source": [
    "#### d."
   ]
  },
  {
   "cell_type": "code",
   "execution_count": 22,
   "metadata": {},
   "outputs": [],
   "source": [
    "def question_3d(l,r,N=1000):\n",
    "    x = np.linspace(l,r,N)\n",
    "    y = [question_3c(i) for i in x]\n",
    "    plt.plot(x,y)\n",
    "    plt.xlabel('Angle')\n",
    "    plt.ylabel('Result of D modulation procedure')\n",
    "    plt.title('Simulation of Scan Parameters')\n",
    "    plt.show()"
   ]
  },
  {
   "cell_type": "code",
   "execution_count": 23,
   "metadata": {},
   "outputs": [
    {
     "name": "stdout",
     "output_type": "stream",
     "text": [
      "3(d):\n"
     ]
    },
    {
     "data": {
      "image/png": "[encoded data removed]",
      "text/plain": [
       "<Figure size 432x288 with 1 Axes>"
      ]
     },
     "metadata": {
      "needs_background": "light"
     },
     "output_type": "display_data"
    }
   ],
   "source": [
    "print('3(d):')\n",
    "question_3d(0,360,360)"
   ]
  },
  {
   "cell_type": "code",
   "execution_count": 24,
   "metadata": {},
   "outputs": [
    {
     "name": "stdout",
     "output_type": "stream",
     "text": [
      "Accroding to the graph, the optimal theta is about 175 degree.\n"
     ]
    }
   ],
   "source": [
    "print('Accroding to the graph, the optimal theta is about 175 degree.')"
   ]
  },
  {
   "cell_type": "markdown",
   "metadata": {},
   "source": [
    "#### e."
   ]
  },
  {
   "cell_type": "code",
   "execution_count": 116,
   "metadata": {},
   "outputs": [],
   "source": [
    "def question_3e(l,r,N=1000):\n",
    "    x = np.linspace(l,r,N)\n",
    "    y = []\n",
    "    result_record = np.full(len(x),np.nan)\n",
    "    \n",
    "    # Approximate minimum will be the centered finite-difference approach that being most near to 0\n",
    "    #approximate_minimum = np.Inf\n",
    "    #approximate_minimum_index = -1\n",
    "    \n",
    "    for i in range(len(x)):\n",
    "        if(np.isnan(result_record[(i+1)%N])):\n",
    "            result_record[(i+1)%N] = question_3c(x[(i+1)%N])\n",
    "                                         \n",
    "        if(np.isnan(result_record[(i-1)%N])):\n",
    "            result_record[(i-1)%N] = question_3c(x[(i-1)%N])\n",
    "                                         \n",
    "        tmp = (result_record[(i+1)%N]-result_record[(i-1)%N])/(2*( x[(i+1)%N]-x[(i-1)%N]))\n",
    "        #if(abs(tmp) < approximate_minimum):\n",
    "            ##approximate_minimum_index = i\n",
    "            #approximate_minimum = abs(tmp)\n",
    "        y.append(tmp)\n",
    "    \n",
    "    #approximate_minimum_index = i*360/N\n",
    "    #print(approximate_minimum_index,' is the approximate minimum angle.')\n",
    "    plt.plot(x,y)\n",
    "    plt.xlabel('Angle')\n",
    "    plt.ylabel('First Derivative of the result of D modulation procedure')\n",
    "    plt.title('First Derivative of the Simulation of Scan Parameters')\n",
    "    plt.show()"
   ]
  },
  {
   "cell_type": "code",
   "execution_count": 61,
   "metadata": {},
   "outputs": [
    {
     "name": "stdout",
     "output_type": "stream",
     "text": [
      "3(e):\n"
     ]
    },
    {
     "data": {
      "image/png": "[encoded data removed]",
      "text/plain": [
       "<Figure size 432x288 with 1 Axes>"
      ]
     },
     "metadata": {
      "needs_background": "light"
     },
     "output_type": "display_data"
    }
   ],
   "source": [
    "print('3(e):')\n",
    "question_3e(0,360,360)"
   ]
  },
  {
   "cell_type": "markdown",
   "metadata": {},
   "source": [
    "#### f."
   ]
  },
  {
   "cell_type": "code",
   "execution_count": 62,
   "metadata": {},
   "outputs": [],
   "source": [
    "def g(x,h=0.01):\n",
    "    '''  Parameters:\n",
    "        x: scalar\n",
    "            The input value of function, in degree.\n",
    "        h: scalar\n",
    "            Step size, used to approximate g(x) \n",
    "    '''\n",
    "    return (question_3c(x+h) - question_3c(x-h)) / (2*h)\n",
    "    \n",
    "def secant_method(func,x0,x1,criteria=1e-4):\n",
    "    '''Parameters:\n",
    "        func: function that return a scalar\n",
    "            The function that we want to approximate with secant method\n",
    "        \n",
    "        x0, x1: scalars\n",
    "            Initial guesses\n",
    "        \n",
    "        criteria: scalar\n",
    "            Stopping criterion\n",
    "    '''\n",
    "    theta_list = []\n",
    "    epsilon_a_list = []\n",
    "    \n",
    "    current_theta = x1\n",
    "    current_epsilon_a = 1.00\n",
    "    \n",
    "    theta_list.append(current_theta)\n",
    "    epsilon_a_list.append(current_epsilon_a)\n",
    "    initial_interval = abs(x0-x1)\n",
    "    \n",
    "    x_i = x0\n",
    "    x_j = x1\n",
    "    prev_f_x = func(x_i)\n",
    "    while(current_epsilon_a > criteria):\n",
    "        current_f_x = func(x_j)\n",
    "        current_theta = x_j - (current_f_x*(x_i-x_j))/(prev_f_x-current_f_x)\n",
    "        current_epsilon_a = abs(x_i-x_j)/initial_interval\n",
    "        \n",
    "        theta_list.append(current_theta)\n",
    "        epsilon_a_list.append(current_epsilon_a)\n",
    "            \n",
    "        x_i = x_j\n",
    "        x_j = current_theta\n",
    "        prev_f_x = current_f_x\n",
    "        \n",
    "        \n",
    "    return theta_list, epsilon_a_list"
   ]
  },
  {
   "cell_type": "code",
   "execution_count": 97,
   "metadata": {},
   "outputs": [],
   "source": [
    "def question_3f(x0,x1):\n",
    "    '''  Parameters:\n",
    "        x0, x1: scalars\n",
    "            Initial guesses  \n",
    "    '''\n",
    "    theta_list, epsilon_a_list = secant_method(g,x0,x1,criteria=1e-4)\n",
    "    df = pd.DataFrame({'Theta': theta_list,\n",
    "                  'Epsilon_a(%)': [i*100 for i in epsilon_a_list] \n",
    "                 })\n",
    "    return df"
   ]
  },
  {
   "cell_type": "code",
   "execution_count": 98,
   "metadata": {
    "scrolled": true
   },
   "outputs": [
    {
     "name": "stdout",
     "output_type": "stream",
     "text": [
      "3(f):\n"
     ]
    }
   ],
   "source": [
    "print('3(f):')\n",
    "df = question_3f(5,10)"
   ]
  },
  {
   "cell_type": "code",
   "execution_count": 114,
   "metadata": {
    "scrolled": true
   },
   "outputs": [
    {
     "data": {
      "text/html": [
       "<div>\n",
       "<style scoped>\n",
       "    .dataframe tbody tr th:only-of-type {\n",
       "        vertical-align: middle;\n",
       "    }\n",
       "\n",
       "    .dataframe tbody tr th {\n",
       "        vertical-align: top;\n",
       "    }\n",
       "\n",
       "    .dataframe thead th {\n",
       "        text-align: right;\n",
       "    }\n",
       "</style>\n",
       "<table border=\"1\" class=\"dataframe\">\n",
       "  <thead>\n",
       "    <tr style=\"text-align: right;\">\n",
       "      <th></th>\n",
       "      <th>Theta</th>\n",
       "      <th>Epsilon_a(%)</th>\n",
       "    </tr>\n",
       "  </thead>\n",
       "  <tbody>\n",
       "    <tr>\n",
       "      <th>0</th>\n",
       "      <td>10.000000</td>\n",
       "      <td>100.000000</td>\n",
       "    </tr>\n",
       "    <tr>\n",
       "      <th>1</th>\n",
       "      <td>40.281589</td>\n",
       "      <td>100.000000</td>\n",
       "    </tr>\n",
       "    <tr>\n",
       "      <th>2</th>\n",
       "      <td>42.371030</td>\n",
       "      <td>605.631778</td>\n",
       "    </tr>\n",
       "    <tr>\n",
       "      <th>3</th>\n",
       "      <td>62.946513</td>\n",
       "      <td>41.788827</td>\n",
       "    </tr>\n",
       "    <tr>\n",
       "      <th>4</th>\n",
       "      <td>81.872162</td>\n",
       "      <td>411.509647</td>\n",
       "    </tr>\n",
       "    <tr>\n",
       "      <th>5</th>\n",
       "      <td>114.790266</td>\n",
       "      <td>378.512980</td>\n",
       "    </tr>\n",
       "    <tr>\n",
       "      <th>6</th>\n",
       "      <td>165.200596</td>\n",
       "      <td>658.362092</td>\n",
       "    </tr>\n",
       "    <tr>\n",
       "      <th>7</th>\n",
       "      <td>295.879151</td>\n",
       "      <td>1008.206602</td>\n",
       "    </tr>\n",
       "    <tr>\n",
       "      <th>8</th>\n",
       "      <td>194.303807</td>\n",
       "      <td>2613.571101</td>\n",
       "    </tr>\n",
       "    <tr>\n",
       "      <th>9</th>\n",
       "      <td>153.575257</td>\n",
       "      <td>2031.506886</td>\n",
       "    </tr>\n",
       "    <tr>\n",
       "      <th>10</th>\n",
       "      <td>174.326406</td>\n",
       "      <td>814.570992</td>\n",
       "    </tr>\n",
       "    <tr>\n",
       "      <th>11</th>\n",
       "      <td>144.406927</td>\n",
       "      <td>415.022977</td>\n",
       "    </tr>\n",
       "    <tr>\n",
       "      <th>12</th>\n",
       "      <td>130.304466</td>\n",
       "      <td>598.389586</td>\n",
       "    </tr>\n",
       "    <tr>\n",
       "      <th>13</th>\n",
       "      <td>284.043533</td>\n",
       "      <td>282.049220</td>\n",
       "    </tr>\n",
       "    <tr>\n",
       "      <th>14</th>\n",
       "      <td>178.733618</td>\n",
       "      <td>3074.781333</td>\n",
       "    </tr>\n",
       "    <tr>\n",
       "      <th>15</th>\n",
       "      <td>241.189807</td>\n",
       "      <td>2106.198301</td>\n",
       "    </tr>\n",
       "    <tr>\n",
       "      <th>16</th>\n",
       "      <td>224.974949</td>\n",
       "      <td>1249.123798</td>\n",
       "    </tr>\n",
       "    <tr>\n",
       "      <th>17</th>\n",
       "      <td>118.419384</td>\n",
       "      <td>324.297170</td>\n",
       "    </tr>\n",
       "    <tr>\n",
       "      <th>18</th>\n",
       "      <td>175.571557</td>\n",
       "      <td>2131.111300</td>\n",
       "    </tr>\n",
       "    <tr>\n",
       "      <th>19</th>\n",
       "      <td>132.261309</td>\n",
       "      <td>1143.043455</td>\n",
       "    </tr>\n",
       "    <tr>\n",
       "      <th>20</th>\n",
       "      <td>141.789078</td>\n",
       "      <td>866.204952</td>\n",
       "    </tr>\n",
       "    <tr>\n",
       "      <th>21</th>\n",
       "      <td>282.527979</td>\n",
       "      <td>190.555375</td>\n",
       "    </tr>\n",
       "    <tr>\n",
       "      <th>22</th>\n",
       "      <td>184.692130</td>\n",
       "      <td>2814.778015</td>\n",
       "    </tr>\n",
       "    <tr>\n",
       "      <th>23</th>\n",
       "      <td>245.507786</td>\n",
       "      <td>1956.716963</td>\n",
       "    </tr>\n",
       "    <tr>\n",
       "      <th>24</th>\n",
       "      <td>230.179384</td>\n",
       "      <td>1216.313101</td>\n",
       "    </tr>\n",
       "    <tr>\n",
       "      <th>25</th>\n",
       "      <td>134.158547</td>\n",
       "      <td>306.568022</td>\n",
       "    </tr>\n",
       "    <tr>\n",
       "      <th>26</th>\n",
       "      <td>181.359542</td>\n",
       "      <td>1920.416756</td>\n",
       "    </tr>\n",
       "    <tr>\n",
       "      <th>27</th>\n",
       "      <td>145.987360</td>\n",
       "      <td>944.019904</td>\n",
       "    </tr>\n",
       "    <tr>\n",
       "      <th>28</th>\n",
       "      <td>154.362521</td>\n",
       "      <td>707.443632</td>\n",
       "    </tr>\n",
       "    <tr>\n",
       "      <th>29</th>\n",
       "      <td>365.243564</td>\n",
       "      <td>167.503215</td>\n",
       "    </tr>\n",
       "    <tr>\n",
       "      <th>30</th>\n",
       "      <td>153.090704</td>\n",
       "      <td>4217.620869</td>\n",
       "    </tr>\n",
       "    <tr>\n",
       "      <th>31</th>\n",
       "      <td>151.804531</td>\n",
       "      <td>4243.057207</td>\n",
       "    </tr>\n",
       "    <tr>\n",
       "      <th>32</th>\n",
       "      <td>386.131388</td>\n",
       "      <td>25.723462</td>\n",
       "    </tr>\n",
       "    <tr>\n",
       "      <th>33</th>\n",
       "      <td>138.342098</td>\n",
       "      <td>4686.537146</td>\n",
       "    </tr>\n",
       "    <tr>\n",
       "      <th>34</th>\n",
       "      <td>122.944675</td>\n",
       "      <td>4955.785804</td>\n",
       "    </tr>\n",
       "    <tr>\n",
       "      <th>35</th>\n",
       "      <td>255.269027</td>\n",
       "      <td>307.948462</td>\n",
       "    </tr>\n",
       "    <tr>\n",
       "      <th>36</th>\n",
       "      <td>182.260394</td>\n",
       "      <td>2646.487033</td>\n",
       "    </tr>\n",
       "    <tr>\n",
       "      <th>37</th>\n",
       "      <td>177.803205</td>\n",
       "      <td>1460.172644</td>\n",
       "    </tr>\n",
       "    <tr>\n",
       "      <th>38</th>\n",
       "      <td>181.295947</td>\n",
       "      <td>89.143797</td>\n",
       "    </tr>\n",
       "    <tr>\n",
       "      <th>39</th>\n",
       "      <td>178.087661</td>\n",
       "      <td>69.854850</td>\n",
       "    </tr>\n",
       "    <tr>\n",
       "      <th>40</th>\n",
       "      <td>178.974999</td>\n",
       "      <td>64.165724</td>\n",
       "    </tr>\n",
       "    <tr>\n",
       "      <th>41</th>\n",
       "      <td>177.688829</td>\n",
       "      <td>17.746764</td>\n",
       "    </tr>\n",
       "    <tr>\n",
       "      <th>42</th>\n",
       "      <td>177.715545</td>\n",
       "      <td>25.723395</td>\n",
       "    </tr>\n",
       "    <tr>\n",
       "      <th>43</th>\n",
       "      <td>177.715126</td>\n",
       "      <td>0.534307</td>\n",
       "    </tr>\n",
       "    <tr>\n",
       "      <th>44</th>\n",
       "      <td>177.715127</td>\n",
       "      <td>0.008377</td>\n",
       "    </tr>\n",
       "  </tbody>\n",
       "</table>\n",
       "</div>"
      ],
      "text/plain": [
       "         Theta  Epsilon_a(%)\n",
       "0    10.000000    100.000000\n",
       "1    40.281589    100.000000\n",
       "2    42.371030    605.631778\n",
       "3    62.946513     41.788827\n",
       "4    81.872162    411.509647\n",
       "5   114.790266    378.512980\n",
       "6   165.200596    658.362092\n",
       "7   295.879151   1008.206602\n",
       "8   194.303807   2613.571101\n",
       "9   153.575257   2031.506886\n",
       "10  174.326406    814.570992\n",
       "11  144.406927    415.022977\n",
       "12  130.304466    598.389586\n",
       "13  284.043533    282.049220\n",
       "14  178.733618   3074.781333\n",
       "15  241.189807   2106.198301\n",
       "16  224.974949   1249.123798\n",
       "17  118.419384    324.297170\n",
       "18  175.571557   2131.111300\n",
       "19  132.261309   1143.043455\n",
       "20  141.789078    866.204952\n",
       "21  282.527979    190.555375\n",
       "22  184.692130   2814.778015\n",
       "23  245.507786   1956.716963\n",
       "24  230.179384   1216.313101\n",
       "25  134.158547    306.568022\n",
       "26  181.359542   1920.416756\n",
       "27  145.987360    944.019904\n",
       "28  154.362521    707.443632\n",
       "29  365.243564    167.503215\n",
       "30  153.090704   4217.620869\n",
       "31  151.804531   4243.057207\n",
       "32  386.131388     25.723462\n",
       "33  138.342098   4686.537146\n",
       "34  122.944675   4955.785804\n",
       "35  255.269027    307.948462\n",
       "36  182.260394   2646.487033\n",
       "37  177.803205   1460.172644\n",
       "38  181.295947     89.143797\n",
       "39  178.087661     69.854850\n",
       "40  178.974999     64.165724\n",
       "41  177.688829     17.746764\n",
       "42  177.715545     25.723395\n",
       "43  177.715126      0.534307\n",
       "44  177.715127      0.008377"
      ]
     },
     "execution_count": 114,
     "metadata": {},
     "output_type": "execute_result"
    }
   ],
   "source": [
    "df"
   ]
  },
  {
   "cell_type": "markdown",
   "metadata": {},
   "source": [
    "#### g."
   ]
  },
  {
   "cell_type": "code",
   "execution_count": 90,
   "metadata": {},
   "outputs": [
    {
     "name": "stdout",
     "output_type": "stream",
     "text": [
      "3(g):\n"
     ]
    }
   ],
   "source": [
    "print('3(g):')"
   ]
  },
  {
   "cell_type": "code",
   "execution_count": 91,
   "metadata": {},
   "outputs": [],
   "source": [
    "def quesiton_3e(t,T1):\n",
    "    return np.arccos(np.exp(-t/T1))"
   ]
  },
  {
   "cell_type": "code",
   "execution_count": 115,
   "metadata": {},
   "outputs": [
    {
     "name": "stdout",
     "output_type": "stream",
     "text": [
      "Answer using analytical method: 0.7113746317093453\n",
      "Ansewr using second method: 177.71512717848188\n"
     ]
    }
   ],
   "source": [
    "print('Answer using analytical method:',quesiton_3e(250,900))\n",
    "print('Ansewr using second method:',df.iloc[-1,0])"
   ]
  },
  {
   "cell_type": "code",
   "execution_count": null,
   "metadata": {},
   "outputs": [],
   "source": []
  }
 ],
 "metadata": {
  "kernelspec": {
   "display_name": "Python 3",
   "language": "python",
   "name": "python3"
  },
  "language_info": {
   "codemirror_mode": {
    "name": "ipython",
    "version": 3
   },
   "file_extension": ".py",
   "mimetype": "text/x-python",
   "name": "python",
   "nbconvert_exporter": "python",
   "pygments_lexer": "ipython3",
   "version": "3.6.10"
  }
 },
 "nbformat": 4,
 "nbformat_minor": 4
}
